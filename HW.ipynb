{
  "nbformat": 4,
  "nbformat_minor": 0,
  "metadata": {
    "colab": {
      "provenance": [],
      "authorship_tag": "ABX9TyM8w93wtVrAAzMBfzRS0Dxv",
      "include_colab_link": true
    },
    "kernelspec": {
      "name": "python3",
      "display_name": "Python 3"
    },
    "language_info": {
      "name": "python"
    }
  },
  "cells": [
    {
      "cell_type": "markdown",
      "metadata": {
        "id": "view-in-github",
        "colab_type": "text"
      },
      "source": [
        "<a href=\"https://colab.research.google.com/github/Stroded4ever/MQP/blob/main/HW.ipynb\" target=\"_parent\"><img src=\"https://colab.research.google.com/assets/colab-badge.svg\" alt=\"Open In Colab\"/></a>"
      ]
    },
    {
      "cell_type": "code",
      "execution_count": 1,
      "metadata": {
        "colab": {
          "base_uri": "https://localhost:8080/"
        },
        "id": "EdVGRrqr-MdC",
        "outputId": "a3d6ad90-9ec2-42be-b85a-8ae90d89a251"
      },
      "outputs": [
        {
          "output_type": "stream",
          "name": "stdout",
          "text": [
            "3.46 %\n",
            "Implied Volatility: 14.1184%\n",
            "Updated daily volatility: 1.5105%\n"
          ]
        }
      ],
      "source": [
        "#HW on volatility\n",
        "import numpy as np\n",
        "from scipy.stats import norm\n",
        "from scipy.optimize import brentq\n",
        "#1: the volatility of an asset is 2% per day.\n",
        "#what is the standard deviation of the percentage price change in three days?\n",
        "# sigma dailiy= .02\n",
        "#we want the standard deviation of the 3 day return (percent price chang over 3 days)\n",
        "#if returns are i.i.d. and uncorrelated, variance adds linearity with time so:\n",
        "#Var[R3e]= 3*Var[R1d] so sigma3d= sqrt of 3 *sigmadaily\n",
        "#=  sqrt(3)*.02 = 3.46%\n",
        "print(round((0.02 * (3 ** 0.5)) * 100, 2), \"%\")\n",
        "#def multi_day_volatility(daily_vol, days):\n",
        "#    return daily_vol * (days ** 0.5) * 100  # convert to %\n",
        "#\n",
        "# Example: 2% daily volatility over 3 days\n",
        "#print(round(multi_day_volatility(0.02, 3), 2), \"%\")\n",
        "\n",
        "#2:\n",
        "# Black-Scholes formula for a European call\n",
        "def bs_call_price(S, K, T, r, sigma):\n",
        "    d1 = (np.log(S / K) + (r + 0.5 * sigma**2) * T) / (sigma * np.sqrt(T))\n",
        "    d2 = d1 - sigma * np.sqrt(T)\n",
        "    return S * norm.cdf(d1) - K * np.exp(-r * T) * norm.cdf(d2)\n",
        "\n",
        "# Implied volatility solver\n",
        "def implied_volatility_call(S, K, T, r, market_price):\n",
        "    # Define the function whose root we want to find\n",
        "    objective = lambda sigma: bs_call_price(S, K, T, r, sigma) - market_price\n",
        "    # Use a root-finding method (brentq works well for monotonic functions)\n",
        "    return brentq(objective, 1e-6, 5.0)  # Search in [0.000001, 500%]\n",
        "\n",
        "# Parameters\n",
        "S = 120.0      # current stock price\n",
        "K = 115.0      # strike price\n",
        "T = 0.5        # time to expiration (in years)\n",
        "r = 0.03       # risk-free rate\n",
        "market_price = 8.75  # observed call price\n",
        "\n",
        "iv = implied_volatility_call(S, K, T, r, market_price)\n",
        "print(f\"Implied Volatility: {iv:.4%}\")\n",
        "\n",
        "#3\n",
        "#The most recent estimate of the daily volatility of an asset is 1.5% and the price\n",
        "# of the asset at the close of trading yesterday was $30.00. the parameter lambda in the EWMA model is .94.\n",
        "# Suppose that the price of the asset at the close of trading today is $30.50.\n",
        "# How will this cause the volatility to be updated by the EWMA model?\n",
        "\n",
        "# Parameters\n",
        "sigma_prev = 0.015     # yesterday's volatility (1.5%)\n",
        "price_yesterday = 30.0\n",
        "price_today = 30.5\n",
        "lmbda = 0.94\n",
        "\n",
        "# Step 1: Compute yesterday's variance\n",
        "var_prev = sigma_prev**2\n",
        "\n",
        "# Step 2: Compute today's return\n",
        "r_t = (price_today - price_yesterday) / price_yesterday\n",
        "\n",
        "# Step 3: Update variance using EWMA\n",
        "var_new = lmbda * var_prev + (1 - lmbda) * r_t**2\n",
        "\n",
        "# Step 4: Take square root to get new volatility\n",
        "sigma_new = np.sqrt(var_new)\n",
        "\n",
        "print(f\"Updated daily volatility: {sigma_new:.4%}\")"
      ]
    }
  ]
}